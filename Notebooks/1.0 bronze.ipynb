{
 "cells": [
  {
   "cell_type": "markdown",
   "metadata": {
    "application/vnd.databricks.v1+cell": {
     "inputWidgets": {},
     "nuid": "60c5f899-77ee-4da9-84b0-0a1f24dc83c2",
     "showTitle": false,
     "title": ""
    },
    "id": "ZHLMDlZxL2Nv"
   },
   "source": [
    "# Case: Previsão do preço de imóveis no Rio de Janeiro utilizando regressão\n",
    "\n",
    "## Contexto\n",
    "O mercado imobiliário é um importante setor da economia brasileira, e a previsão do preço de imóveis é uma questão relevante tanto para compradores quanto para vendedores. Neste caso, o objetivo é desenvolver um modelo de regressão para prever o preço de imóveis na cidade do Rio de Janeiro, utilizando dados públicos disponíveis.\n",
    "\n",
    "## Base de dados\n",
    "O Inside Airbnb (http://insideairbnb.com/get-the-data.html) oferece dados sobre anúncios de acomodações no Airbnb, incluindo informações sobre localização, tipo de imóvel, número de quartos e preços. É possível utilizar esses dados para modelar o preço dos imóveis no Rio de Janeiro, filtrando as informações relevantes para o contexto local.\n",
    "\n",
    "## Aplicação de Ciência de Dados\n",
    "\n",
    "### 1. Coleta e limpeza de dados\n",
    "Baixe o arquivo \"listings.csv\" referente à cidade do Rio de Janeiro no Inside Airbnb. Em seguida, realize a limpeza dos dados removendo entradas duplicadas, tratando valores ausentes e convertendo variáveis categóricas em numéricas.\n",
    " - bronze: dado coletado em formato legivel (.parquet)\n",
    " - silver: dado filtrado ou convertido em formato (string -> date)\n",
    " - gold: dado do imóvel (id, preço, quantidade de quartos)\n",
    "\n",
    "### 2. Análise exploratória de dados (EDA)\n",
    "A EDA é realizada para identificar padrões, tendências e correlações entre as variáveis. Por exemplo, verificar a distribuição dos preços dos imóveis, identificar quais bairros possuem os imóveis mais caros e analisar a relação entre o tamanho do imóvel e o preço.\n",
    "\n",
    "### 3. Feature engineering\n",
    "Crie novas variáveis relevantes, como a distância até o centro da cidade ou a presença de comércio e serviços nas proximidades. Essas variáveis podem ajudar a melhorar o desempenho do modelo de regressão.\n",
    "\n",
    "### 4. Modelagem e algoritmos\n",
    "Separe a base de dados em conjuntos de treinamento e teste. Treine diferentes modelos de regressão, como regressão linear, árvores de decisão e regressão de floresta aleatória (Random Forest). Utilize validação cruzada para avaliar o desempenho dos modelos e selecione aquele com a melhor performance.\n",
    "\n",
    "### 5. Avaliação e interpretação\n",
    "Avalie o modelo selecionado utilizando métricas de desempenho, como o erro médio quadrático (RMSE) e o coeficiente de determinação (R²). Interprete os resultados, identificando os fatores que mais influenciam o preço dos imóveis e fornecendo insights para os interessados no mercado imobiliário.\n",
    "\n",
    "Dessa forma, é possível criar um modelo de regressão para prever o preço de imóveis no Rio de Janeiro utilizando dados disponíveis e técnicas de ciência de dados.\n"
   ]
  },
  {
   "cell_type": "markdown",
   "metadata": {
    "application/vnd.databricks.v1+cell": {
     "inputWidgets": {},
     "nuid": "a35cdce7-ac31-4c59-9956-50c46dfad37b",
     "showTitle": false,
     "title": ""
    },
    "id": "NjSOVUONL2Nz"
   },
   "source": [
    "#### Carregando os Dados"
   ]
  },
  {
   "cell_type": "code",
   "execution_count": 1,
   "metadata": {
    "colab": {
     "base_uri": "https://localhost:8080/"
    },
    "executionInfo": {
     "elapsed": 37087,
     "status": "ok",
     "timestamp": 1681163593862,
     "user": {
      "displayName": "Matheus Makoto Ogura",
      "userId": "14922850654307271537"
     },
     "user_tz": 180
    },
    "id": "L-g7ay8ZL9Yn",
    "outputId": "cd3f47d9-c59e-4e2c-c48f-19e403e19373",
    "tags": []
   },
   "outputs": [],
   "source": [
    "import pandas as pd\n",
    "import gzip"
   ]
  },
  {
   "cell_type": "code",
   "execution_count": 2,
   "metadata": {
    "executionInfo": {
     "elapsed": 20,
     "status": "ok",
     "timestamp": 1681163593863,
     "user": {
      "displayName": "Matheus Makoto Ogura",
      "userId": "14922850654307271537"
     },
     "user_tz": 180
    },
    "id": "C8JqLj8aL_Fd",
    "tags": []
   },
   "outputs": [],
   "source": [
    "mount_path = \"/workspaces/prediction_house_price_from_airbnb/Data/Raw/\""
   ]
  },
  {
   "cell_type": "code",
   "execution_count": 3,
   "metadata": {
    "application/vnd.databricks.v1+cell": {
     "inputWidgets": {},
     "nuid": "2a0d656e-bdcd-4107-9cc5-c6068256fa2c",
     "showTitle": false,
     "title": ""
    },
    "executionInfo": {
     "elapsed": 3749,
     "status": "ok",
     "timestamp": 1681163597603,
     "user": {
      "displayName": "Matheus Makoto Ogura",
      "userId": "14922850654307271537"
     },
     "user_tz": 180
    },
    "id": "vK1Uj6fqL2N0",
    "tags": []
   },
   "outputs": [],
   "source": [
    "listing = pd.read_csv(mount_path + \"listings.csv\")\n",
    "neighbourhoods = pd.read_csv(mount_path + \"neighbourhoods.csv\")\n",
    "review = pd.read_csv(mount_path + \"reviews.csv\")\n"
   ]
  },
  {
   "cell_type": "code",
   "execution_count": 6,
   "metadata": {
    "tags": []
   },
   "outputs": [],
   "source": [
    "def read_gz(file_name:str)->pd.DataFrame:\n",
    "    \"\"\"Le um arquivo gz\"\"\"\n",
    "    with gzip.open(mount_path + file_name, 'rt') as f:\n",
    "        return pd.read_csv(f)"
   ]
  },
  {
   "cell_type": "code",
   "execution_count": 7,
   "metadata": {
    "tags": []
   },
   "outputs": [],
   "source": [
    "reviews  = read_gz('reviews.csv.gz')\n",
    "listings = read_gz('listings.csv.gz')\n",
    "calendar = read_gz('calendar.csv.gz')"
   ]
  },
  {
   "cell_type": "code",
   "execution_count": 9,
   "metadata": {
    "tags": []
   },
   "outputs": [
    {
     "name": "stdout",
     "output_type": "stream",
     "text": [
      "Collecting pyarrow\n",
      "  Downloading pyarrow-11.0.0-cp310-cp310-manylinux_2_17_x86_64.manylinux2014_x86_64.whl (34.9 MB)\n",
      "\u001b[2K     \u001b[90m━━━━━━━━━━━━━━━━━━━━━━━━━━━━━━━━━━━━━━━━\u001b[0m \u001b[32m34.9/34.9 MB\u001b[0m \u001b[31m33.9 MB/s\u001b[0m eta \u001b[36m0:00:00\u001b[0m00:01\u001b[0m00:01\u001b[0m\n",
      "\u001b[?25hRequirement already satisfied: numpy>=1.16.6 in /home/codespace/.local/lib/python3.10/site-packages (from pyarrow) (1.24.2)\n",
      "Installing collected packages: pyarrow\n",
      "Successfully installed pyarrow-11.0.0\n",
      "\n",
      "\u001b[1m[\u001b[0m\u001b[34;49mnotice\u001b[0m\u001b[1;39;49m]\u001b[0m\u001b[39;49m A new release of pip is available: \u001b[0m\u001b[31;49m23.0.1\u001b[0m\u001b[39;49m -> \u001b[0m\u001b[32;49m23.1\u001b[0m\n",
      "\u001b[1m[\u001b[0m\u001b[34;49mnotice\u001b[0m\u001b[1;39;49m]\u001b[0m\u001b[39;49m To update, run: \u001b[0m\u001b[32;49mpython -m pip install --upgrade pip\u001b[0m\n"
     ]
    }
   ],
   "source": [
    "!pip install pyarrow"
   ]
  },
  {
   "cell_type": "code",
   "execution_count": 11,
   "metadata": {
    "tags": []
   },
   "outputs": [],
   "source": [
    "mount_path = \"/workspaces/prediction_house_price_from_airbnb/Data/\""
   ]
  },
  {
   "cell_type": "code",
   "execution_count": 13,
   "metadata": {
    "id": "KL7TQZADqk1h",
    "tags": []
   },
   "outputs": [],
   "source": [
    "# Salvando as bases\n",
    "reviews.to_parquet(mount_path + 'bronze/'+'reviews.parquet')\n",
    "listings.to_parquet(mount_path + 'bronze/'+'listings.parquet')\n",
    "calendar.to_parquet(mount_path + 'bronze/'+'calendar.parquet')\n",
    "listing.to_parquet(mount_path + 'bronze/'+'listing.parquet')\n",
    "neighbourhoods.to_parquet(mount_path + 'bronze/'+'neighbourhoods.parquet')\n",
    "review.to_parquet(mount_path + 'bronze/'+'review.parquet')\n"
   ]
  },
  {
   "cell_type": "code",
   "execution_count": null,
   "metadata": {},
   "outputs": [],
   "source": []
  }
 ],
 "metadata": {
  "application/vnd.databricks.v1+notebook": {
   "dashboards": [],
   "language": "python",
   "notebookMetadata": {
    "pythonIndentUnit": 2
   },
   "notebookName": "1.0 Criando Base de Modelagem",
   "notebookOrigID": 4267021508302579,
   "widgets": {}
  },
  "colab": {
   "provenance": [
    {
     "file_id": "14rqDB5Vy1rZfHll4yPtMtFaqH3garE56",
     "timestamp": 1681070322897
    }
   ]
  },
  "kernelspec": {
   "display_name": "Python 3 (ipykernel)",
   "language": "python",
   "name": "python3"
  },
  "language_info": {
   "codemirror_mode": {
    "name": "ipython",
    "version": 3
   },
   "file_extension": ".py",
   "mimetype": "text/x-python",
   "name": "python",
   "nbconvert_exporter": "python",
   "pygments_lexer": "ipython3",
   "version": "3.10.4"
  }
 },
 "nbformat": 4,
 "nbformat_minor": 4
}
