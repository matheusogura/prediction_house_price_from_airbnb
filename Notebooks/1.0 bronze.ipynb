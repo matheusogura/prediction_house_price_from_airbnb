{
 "cells": [
  {
   "cell_type": "markdown",
   "metadata": {
    "application/vnd.databricks.v1+cell": {
     "inputWidgets": {},
     "nuid": "60c5f899-77ee-4da9-84b0-0a1f24dc83c2",
     "showTitle": false,
     "title": ""
    },
    "id": "ZHLMDlZxL2Nv"
   },
   "source": [
    "# Case: Previsão do preço de imóveis no Rio de Janeiro utilizando regressão\n",
    "\n",
    "## Contexto\n",
    "O mercado imobiliário é um importante setor da economia brasileira, e a previsão do preço de imóveis é uma questão relevante tanto para compradores quanto para vendedores. Neste caso, o objetivo é desenvolver um modelo de regressão para prever o preço de imóveis na cidade do Rio de Janeiro, utilizando dados públicos disponíveis.\n",
    "\n",
    "## Base de dados\n",
    "O Inside Airbnb (http://insideairbnb.com/get-the-data.html) oferece dados sobre anúncios de acomodações no Airbnb, incluindo informações sobre localização, tipo de imóvel, número de quartos e preços. É possível utilizar esses dados para modelar o preço dos imóveis no Rio de Janeiro, filtrando as informações relevantes para o contexto local.\n",
    "\n",
    "## Aplicação de Ciência de Dados\n",
    "\n",
    "### 1. Coleta e limpeza de dados\n",
    "Baixe o arquivo \"listings.csv\" referente à cidade do Rio de Janeiro no Inside Airbnb. Em seguida, realize a limpeza dos dados removendo entradas duplicadas, tratando valores ausentes e convertendo variáveis categóricas em numéricas.\n",
    " - bronze: dado coletado em formato legivel (.parquet)\n",
    " - silver: dado filtrado ou convertido em formato (string -> date)\n",
    " - gold: dado do imóvel (id, preço, quantidade de quartos)\n",
    "\n",
    "### 2. Análise exploratória de dados (EDA)\n",
    "A EDA é realizada para identificar padrões, tendências e correlações entre as variáveis. Por exemplo, verificar a distribuição dos preços dos imóveis, identificar quais bairros possuem os imóveis mais caros e analisar a relação entre o tamanho do imóvel e o preço.\n",
    "\n",
    "### 3. Feature engineering\n",
    "Crie novas variáveis relevantes, como a distância até o centro da cidade ou a presença de comércio e serviços nas proximidades. Essas variáveis podem ajudar a melhorar o desempenho do modelo de regressão.\n",
    "\n",
    "### 4. Modelagem e algoritmos\n",
    "Separe a base de dados em conjuntos de treinamento e teste. Treine diferentes modelos de regressão, como regressão linear, árvores de decisão e regressão de floresta aleatória (Random Forest). Utilize validação cruzada para avaliar o desempenho dos modelos e selecione aquele com a melhor performance.\n",
    "\n",
    "### 5. Avaliação e interpretação\n",
    "Avalie o modelo selecionado utilizando métricas de desempenho, como o erro médio quadrático (RMSE) e o coeficiente de determinação (R²). Interprete os resultados, identificando os fatores que mais influenciam o preço dos imóveis e fornecendo insights para os interessados no mercado imobiliário.\n",
    "\n",
    "Dessa forma, é possível criar um modelo de regressão para prever o preço de imóveis no Rio de Janeiro utilizando dados disponíveis e técnicas de ciência de dados.\n"
   ]
  },
  {
   "cell_type": "markdown",
   "metadata": {
    "application/vnd.databricks.v1+cell": {
     "inputWidgets": {},
     "nuid": "a35cdce7-ac31-4c59-9956-50c46dfad37b",
     "showTitle": false,
     "title": ""
    },
    "id": "NjSOVUONL2Nz"
   },
   "source": [
    "#### Carregando os Dados"
   ]
  },
  {
   "cell_type": "code",
   "execution_count": 1,
   "metadata": {
    "colab": {
     "base_uri": "https://localhost:8080/"
    },
    "executionInfo": {
     "elapsed": 37087,
     "status": "ok",
     "timestamp": 1681163593862,
     "user": {
      "displayName": "Matheus Makoto Ogura",
      "userId": "14922850654307271537"
     },
     "user_tz": 180
    },
    "id": "L-g7ay8ZL9Yn",
    "outputId": "cd3f47d9-c59e-4e2c-c48f-19e403e19373",
    "tags": []
   },
   "outputs": [],
   "source": [
    "import pandas as pd\n",
    "import gzip"
   ]
  },
  {
   "cell_type": "code",
   "execution_count": 2,
   "metadata": {
    "executionInfo": {
     "elapsed": 20,
     "status": "ok",
     "timestamp": 1681163593863,
     "user": {
      "displayName": "Matheus Makoto Ogura",
      "userId": "14922850654307271537"
     },
     "user_tz": 180
    },
    "id": "C8JqLj8aL_Fd",
    "tags": []
   },
   "outputs": [],
   "source": [
    "mount_path = \"/workspaces/prediction_house_price_from_airbnb/Data/Raw/\""
   ]
  },
  {
   "cell_type": "code",
   "execution_count": 3,
   "metadata": {
    "application/vnd.databricks.v1+cell": {
     "inputWidgets": {},
     "nuid": "2a0d656e-bdcd-4107-9cc5-c6068256fa2c",
     "showTitle": false,
     "title": ""
    },
    "executionInfo": {
     "elapsed": 3749,
     "status": "ok",
     "timestamp": 1681163597603,
     "user": {
      "displayName": "Matheus Makoto Ogura",
      "userId": "14922850654307271537"
     },
     "user_tz": 180
    },
    "id": "vK1Uj6fqL2N0",
    "tags": []
   },
   "outputs": [],
   "source": [
    "listing = pd.read_csv(mount_path + \"listings.csv\")\n",
    "#neighbourhoods = pd.read_csv(mount_path + \"neighbourhoods.csv\")\n",
    "#review = pd.read_csv(mount_path + \"reviews.csv\")\n"
   ]
  },
  {
   "cell_type": "code",
   "execution_count": 5,
   "metadata": {
    "tags": []
   },
   "outputs": [],
   "source": [
    "def read_gz(file_name:str)->pd.DataFrame:\n",
    "    \"\"\"Le um arquivo gz\"\"\"\n",
    "    with gzip.open(mount_path + file_name, 'rt') as f:\n",
    "        return pd.read_csv(f)"
   ]
  },
  {
   "cell_type": "code",
   "execution_count": null,
   "metadata": {
    "tags": []
   },
   "outputs": [],
   "source": [
    "reviews  = read_gz('reviews.csv.gz')\n",
    "listings = read_gz('listings.csv.gz')\n",
    "calendar = read_gz('calendar.csv.gz')"
   ]
  },
  {
   "cell_type": "code",
   "execution_count": null,
   "metadata": {
    "tags": []
   },
   "outputs": [],
   "source": [
    "!pip install pyarrow"
   ]
  },
  {
   "cell_type": "code",
   "execution_count": null,
   "metadata": {
    "editable": true,
    "slideshow": {
     "slide_type": ""
    },
    "tags": []
   },
   "outputs": [],
   "source": [
    "mount_path = \"/workspaces/prediction_house_price_from_airbnb/Data/\""
   ]
  },
  {
   "cell_type": "code",
   "execution_count": null,
   "metadata": {
    "editable": true,
    "id": "KL7TQZADqk1h",
    "slideshow": {
     "slide_type": ""
    },
    "tags": []
   },
   "outputs": [],
   "source": [
    "# Salvando as bases\n",
    "reviews.to_parquet(mount_path + 'bronze/'+'reviews.parquet')\n",
    "listings.to_parquet(mount_path + 'bronze/'+'listings.parquet')\n",
    "calendar.to_parquet(mount_path + 'bronze/'+'calendar.parquet')\n",
    "listing.to_parquet(mount_path + 'bronze/'+'listing.parquet')\n",
    "neighbourhoods.to_parquet(mount_path + 'bronze/'+'neighbourhoods.parquet')\n",
    "review.to_parquet(mount_path + 'bronze/'+'review.parquet')\n"
   ]
  },
  {
   "cell_type": "code",
   "execution_count": 4,
   "metadata": {
    "tags": []
   },
   "outputs": [],
   "source": [
    "df=listing[['id', 'latitude', 'longitude']]"
   ]
  },
  {
   "cell_type": "code",
   "execution_count": 5,
   "metadata": {
    "tags": []
   },
   "outputs": [
    {
     "data": {
      "text/html": [
       "<div>\n",
       "<style scoped>\n",
       "    .dataframe tbody tr th:only-of-type {\n",
       "        vertical-align: middle;\n",
       "    }\n",
       "\n",
       "    .dataframe tbody tr th {\n",
       "        vertical-align: top;\n",
       "    }\n",
       "\n",
       "    .dataframe thead th {\n",
       "        text-align: right;\n",
       "    }\n",
       "</style>\n",
       "<table border=\"1\" class=\"dataframe\">\n",
       "  <thead>\n",
       "    <tr style=\"text-align: right;\">\n",
       "      <th></th>\n",
       "      <th>id</th>\n",
       "      <th>latitude</th>\n",
       "      <th>longitude</th>\n",
       "    </tr>\n",
       "  </thead>\n",
       "  <tbody>\n",
       "    <tr>\n",
       "      <th>0</th>\n",
       "      <td>783493769216852616</td>\n",
       "      <td>-22.96421</td>\n",
       "      <td>-43.171600</td>\n",
       "    </tr>\n",
       "    <tr>\n",
       "      <th>1</th>\n",
       "      <td>703973293620197060</td>\n",
       "      <td>-22.95792</td>\n",
       "      <td>-43.182226</td>\n",
       "    </tr>\n",
       "    <tr>\n",
       "      <th>2</th>\n",
       "      <td>782895997622988215</td>\n",
       "      <td>-22.93196</td>\n",
       "      <td>-43.180180</td>\n",
       "    </tr>\n",
       "    <tr>\n",
       "      <th>3</th>\n",
       "      <td>23768085</td>\n",
       "      <td>-23.01104</td>\n",
       "      <td>-43.320340</td>\n",
       "    </tr>\n",
       "    <tr>\n",
       "      <th>4</th>\n",
       "      <td>10463735</td>\n",
       "      <td>-22.93555</td>\n",
       "      <td>-43.191070</td>\n",
       "    </tr>\n",
       "  </tbody>\n",
       "</table>\n",
       "</div>"
      ],
      "text/plain": [
       "                   id  latitude  longitude\n",
       "0  783493769216852616 -22.96421 -43.171600\n",
       "1  703973293620197060 -22.95792 -43.182226\n",
       "2  782895997622988215 -22.93196 -43.180180\n",
       "3            23768085 -23.01104 -43.320340\n",
       "4            10463735 -22.93555 -43.191070"
      ]
     },
     "execution_count": 5,
     "metadata": {},
     "output_type": "execute_result"
    }
   ],
   "source": [
    "df.head()"
   ]
  },
  {
   "cell_type": "code",
   "execution_count": null,
   "metadata": {},
   "outputs": [],
   "source": []
  }
 ],
 "metadata": {
  "application/vnd.databricks.v1+notebook": {
   "dashboards": [],
   "language": "python",
   "notebookMetadata": {
    "pythonIndentUnit": 2
   },
   "notebookName": "1.0 Criando Base de Modelagem",
   "notebookOrigID": 4267021508302579,
   "widgets": {}
  },
  "colab": {
   "provenance": [
    {
     "file_id": "14rqDB5Vy1rZfHll4yPtMtFaqH3garE56",
     "timestamp": 1681070322897
    }
   ]
  },
  "kernelspec": {
   "display_name": "Python 3 (ipykernel)",
   "language": "python",
   "name": "python3"
  },
  "language_info": {
   "codemirror_mode": {
    "name": "ipython",
    "version": 3
   },
   "file_extension": ".py",
   "mimetype": "text/x-python",
   "name": "python",
   "nbconvert_exporter": "python",
   "pygments_lexer": "ipython3",
   "version": "3.10.4"
  }
 },
 "nbformat": 4,
 "nbformat_minor": 4
}
