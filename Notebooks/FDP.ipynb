{
 "cells": [
  {
   "cell_type": "code",
   "execution_count": 1,
   "metadata": {},
   "outputs": [],
   "source": [
    "import pandas as pd"
   ]
  },
  {
   "cell_type": "code",
   "execution_count": 2,
   "metadata": {},
   "outputs": [],
   "source": [
    "mount_path='/workspaces/prediction_house_price_from_airbnb/Data/'"
   ]
  },
  {
   "cell_type": "code",
   "execution_count": 3,
   "metadata": {},
   "outputs": [],
   "source": [
    "df1=pd.read_parquet(path=mount_path+'/bronze/amenities1.parquet')\n",
    "df2=pd.read_parquet(path=mount_path+'/bronze/amenities2.parquet')\n",
    "# df3=pd.read_parquet(path=mount_path+'/bronze/amenities3.parquet')\n",
    "# df4=pd.read_parquet(path=mount_path+'/bronze/amenities4.parquet')\n",
    "# df5=pd.read_parquet(path=mount_path+'/bronze/amenities5.parquet')\n",
    "# df6=pd.read_parquet(path=mount_path+'/bronze/amenities6.parquet')\n",
    "listings=pd.read_parquet(path=mount_path+'silver/listings_v01.parquet')"
   ]
  },
  {
   "cell_type": "code",
   "execution_count": 10,
   "metadata": {},
   "outputs": [
    {
     "ename": "",
     "evalue": "",
     "output_type": "error",
     "traceback": [
      "\u001b[1;31mCannot execute code, session has been disposed. Please try restarting the Kernel."
     ]
    },
    {
     "ename": "",
     "evalue": "",
     "output_type": "error",
     "traceback": [
      "\u001b[1;31mThe Kernel crashed while executing code in the the current cell or a previous cell. Please review the code in the cell(s) to identify a possible cause of the failure. Click <a href='https://aka.ms/vscodeJupyterKernelCrash'>here</a> for more info. View Jupyter <a href='command:jupyter.viewOutput'>log</a> for further details."
     ]
    }
   ],
   "source": [
    "df=pd.concat([df1,df2])"
   ]
  },
  {
   "cell_type": "code",
   "execution_count": 5,
   "metadata": {},
   "outputs": [],
   "source": [
    "df=df.merge(df2, on='id')"
   ]
  },
  {
   "cell_type": "code",
   "execution_count": 7,
   "metadata": {},
   "outputs": [],
   "source": [
    "df=df.merge(df3, on='id')"
   ]
  },
  {
   "cell_type": "code",
   "execution_count": 8,
   "metadata": {},
   "outputs": [
    {
     "data": {
      "text/html": [
       "<div>\n",
       "<style scoped>\n",
       "    .dataframe tbody tr th:only-of-type {\n",
       "        vertical-align: middle;\n",
       "    }\n",
       "\n",
       "    .dataframe tbody tr th {\n",
       "        vertical-align: top;\n",
       "    }\n",
       "\n",
       "    .dataframe thead th {\n",
       "        text-align: right;\n",
       "    }\n",
       "</style>\n",
       "<table border=\"1\" class=\"dataframe\">\n",
       "  <thead>\n",
       "    <tr style=\"text-align: right;\">\n",
       "      <th></th>\n",
       "      <th>listing_url</th>\n",
       "      <th>scrape_id</th>\n",
       "      <th>last_scraped</th>\n",
       "      <th>source</th>\n",
       "      <th>name</th>\n",
       "      <th>description</th>\n",
       "      <th>neighborhood_overview</th>\n",
       "      <th>picture_url</th>\n",
       "      <th>host_id</th>\n",
       "      <th>host_url</th>\n",
       "      <th>...</th>\n",
       "      <th>3\\ HDTV with standard cable</th>\n",
       "      <th>Fast wifi \\u2013 81 Mbps</th>\n",
       "      <th>SABONETE L\\u00cdQUIDO body soap</th>\n",
       "      <th>CD e vinil. sound system</th>\n",
       "      <th>Indoor fireplace: wood-burning</th>\n",
       "      <th>dresser</th>\n",
       "      <th>Venax - 2 bocas + forno  oven</th>\n",
       "      <th>Gas Cooktop stove</th>\n",
       "      <th>60\\ HDTV with standard cable</th>\n",
       "      <th>Eletrolux stainless steel oven</th>\n",
       "    </tr>\n",
       "  </thead>\n",
       "  <tbody>\n",
       "  </tbody>\n",
       "</table>\n",
       "<p>0 rows × 12030 columns</p>\n",
       "</div>"
      ],
      "text/plain": [
       "Empty DataFrame\n",
       "Columns: [listing_url, scrape_id, last_scraped, source, name, description, neighborhood_overview, picture_url, host_id, host_url, host_name, host_since, host_location, host_about, host_response_time, host_response_rate, host_acceptance_rate, host_is_superhost, host_thumbnail_url, host_picture_url, host_neighbourhood, host_listings_count, host_total_listings_count, host_verifications, host_has_profile_pic, host_identity_verified, neighbourhood, neighbourhood_cleansed, neighbourhood_group_cleansed, latitude, longitude, property_type, room_type, accommodates, bathrooms, bathrooms_text, bedrooms, beds, amenities, price, minimum_nights, maximum_nights, minimum_minimum_nights, maximum_minimum_nights, minimum_maximum_nights, maximum_maximum_nights, minimum_nights_avg_ntm, maximum_nights_avg_ntm, calendar_updated, has_availability, availability_30, availability_60, availability_90, availability_365, calendar_last_scraped, number_of_reviews, number_of_reviews_ltm, number_of_reviews_l30d, first_review, last_review, review_scores_rating, review_scores_accuracy, review_scores_cleanliness, review_scores_checkin, review_scores_communication, review_scores_location, review_scores_value, license, instant_bookable, calculated_host_listings_count, calculated_host_listings_count_entire_homes, calculated_host_listings_count_private_rooms, calculated_host_listings_count_shared_rooms, reviews_per_month, distance_centro, distance_corcovado, distance_galeao, distance_olipico, distance_copacabana, years, _x, Fast wifi \\u2013 249 Mbps_x, Laundry services_x, VENAX-GEMINI- COM 2 BOCAS E FORNO stove_x, Brastemp electric stove_x, Fast wifi \\u2013 218 Mbps_x, Grande com 2 portas e freezer refrigerator_x, 75\\ HDTV with Disney+_x, Smart lock_x, Tramontina stainless steel gas stove_x, Frigobar Consul refrigerator_x, Brazilian conditioner_x, Flor body soap_x, Variadas Marcas body soap_x, Pack \\u2019n play/Travel crib - always at the listing_x, Eletrolux Refrigerador Electrolux Frost Free 310 Litros Inox TF39 refrigerator_x, Sabonete Protex body soap_x, De mesa com duas bocas stove_x, Dove ou N\\u00edvea  body soap_x, TRINITAE conditioner_x, ...]\n",
       "Index: []\n",
       "\n",
       "[0 rows x 12030 columns]"
      ]
     },
     "execution_count": 8,
     "metadata": {},
     "output_type": "execute_result"
    }
   ],
   "source": [
    "df.head()"
   ]
  },
  {
   "cell_type": "code",
   "execution_count": null,
   "metadata": {},
   "outputs": [],
   "source": []
  }
 ],
 "metadata": {
  "kernelspec": {
   "display_name": "Python 3",
   "language": "python",
   "name": "python3"
  },
  "language_info": {
   "codemirror_mode": {
    "name": "ipython",
    "version": 3
   },
   "file_extension": ".py",
   "mimetype": "text/x-python",
   "name": "python",
   "nbconvert_exporter": "python",
   "pygments_lexer": "ipython3",
   "version": "3.10.8"
  },
  "orig_nbformat": 4
 },
 "nbformat": 4,
 "nbformat_minor": 2
}
