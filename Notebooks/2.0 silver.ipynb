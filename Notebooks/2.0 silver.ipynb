{
 "cells": [
  {
   "cell_type": "markdown",
   "metadata": {
    "application/vnd.databricks.v1+cell": {
     "inputWidgets": {},
     "nuid": "60c5f899-77ee-4da9-84b0-0a1f24dc83c2",
     "showTitle": false,
     "title": ""
    },
    "id": "ZHLMDlZxL2Nv"
   },
   "source": [
    "# Case: Previsão do preço de imóveis no Rio de Janeiro utilizando regressão\n",
    "\n",
    "## Contexto\n",
    "O mercado imobiliário é um importante setor da economia brasileira, e a previsão do preço de imóveis é uma questão relevante tanto para compradores quanto para vendedores. Neste caso, o objetivo é desenvolver um modelo de regressão para prever o preço de imóveis na cidade do Rio de Janeiro, utilizando dados públicos disponíveis.\n",
    "\n",
    "## Base de dados\n",
    "O Inside Airbnb (http://insideairbnb.com/get-the-data.html) oferece dados sobre anúncios de acomodações no Airbnb, incluindo informações sobre localização, tipo de imóvel, número de quartos e preços. É possível utilizar esses dados para modelar o preço dos imóveis no Rio de Janeiro, filtrando as informações relevantes para o contexto local.\n",
    "\n",
    "## Aplicação de Ciência de Dados\n",
    "\n",
    "### 1. Coleta e limpeza de dados\n",
    "Baixe o arquivo \"listings.csv\" referente à cidade do Rio de Janeiro no Inside Airbnb. Em seguida, realize a limpeza dos dados removendo entradas duplicadas, tratando valores ausentes e convertendo variáveis categóricas em numéricas.\n",
    " - bronze: dado coletado em formato legivel (.parquet)\n",
    " - silver: dado filtrado ou convertido em formato (string -> date)\n",
    " - gold: dado do imóvel (id, preço, quantidade de quartos)\n",
    "\n",
    "### 2. Análise exploratória de dados (EDA)\n",
    "A EDA é realizada para identificar padrões, tendências e correlações entre as variáveis. Por exemplo, verificar a distribuição dos preços dos imóveis, identificar quais bairros possuem os imóveis mais caros e analisar a relação entre o tamanho do imóvel e o preço.\n",
    "\n",
    "### 3. Feature engineering\n",
    "Crie novas variáveis relevantes, como a distância até o centro da cidade ou a presença de comércio e serviços nas proximidades. Essas variáveis podem ajudar a melhorar o desempenho do modelo de regressão.\n",
    "\n",
    "### 4. Modelagem e algoritmos\n",
    "Separe a base de dados em conjuntos de treinamento e teste. Treine diferentes modelos de regressão, como regressão linear, árvores de decisão e regressão de floresta aleatória (Random Forest). Utilize validação cruzada para avaliar o desempenho dos modelos e selecione aquele com a melhor performance.\n",
    "\n",
    "### 5. Avaliação e interpretação\n",
    "Avalie o modelo selecionado utilizando métricas de desempenho, como o erro médio quadrático (RMSE) e o coeficiente de determinação (R²). Interprete os resultados, identificando os fatores que mais influenciam o preço dos imóveis e fornecendo insights para os interessados no mercado imobiliário.\n",
    "\n",
    "Dessa forma, é possível criar um modelo de regressão para prever o preço de imóveis no Rio de Janeiro utilizando dados disponíveis e técnicas de ciência de dados.\n"
   ]
  },
  {
   "cell_type": "markdown",
   "metadata": {
    "application/vnd.databricks.v1+cell": {
     "inputWidgets": {},
     "nuid": "a35cdce7-ac31-4c59-9956-50c46dfad37b",
     "showTitle": false,
     "title": ""
    },
    "id": "NjSOVUONL2Nz"
   },
   "source": [
    "#### Carregando os Dados"
   ]
  },
  {
   "cell_type": "code",
   "execution_count": 23,
   "metadata": {
    "executionInfo": {
     "elapsed": 1484,
     "status": "ok",
     "timestamp": 1681768573612,
     "user": {
      "displayName": "Matheus Makoto Ogura",
      "userId": "14922850654307271537"
     },
     "user_tz": 180
    },
    "id": "L-g7ay8ZL9Yn",
    "tags": []
   },
   "outputs": [],
   "source": [
    "import pandas as pd\n",
    "import pyarrow.parquet as pq\n",
    "import re\n",
    "from geopy.distance import distance\n",
    "import matplotlib.pyplot as plt\n",
    "import math"
   ]
  },
  {
   "cell_type": "code",
   "execution_count": 9,
   "metadata": {
    "tags": []
   },
   "outputs": [
    {
     "name": "stdout",
     "output_type": "stream",
     "text": [
      "Requirement already satisfied: geopy in /usr/local/python/3.10.4/lib/python3.10/site-packages (2.3.0)\n",
      "Requirement already satisfied: geographiclib<3,>=1.52 in /usr/local/python/3.10.4/lib/python3.10/site-packages (from geopy) (2.0)\n",
      "\n",
      "\u001b[1m[\u001b[0m\u001b[34;49mnotice\u001b[0m\u001b[1;39;49m]\u001b[0m\u001b[39;49m A new release of pip is available: \u001b[0m\u001b[31;49m23.0.1\u001b[0m\u001b[39;49m -> \u001b[0m\u001b[32;49m23.1\u001b[0m\n",
      "\u001b[1m[\u001b[0m\u001b[34;49mnotice\u001b[0m\u001b[1;39;49m]\u001b[0m\u001b[39;49m To update, run: \u001b[0m\u001b[32;49mpython -m pip install --upgrade pip\u001b[0m\n"
     ]
    }
   ],
   "source": [
    "!pip install geopy"
   ]
  },
  {
   "cell_type": "code",
   "execution_count": 1,
   "metadata": {
    "executionInfo": {
     "elapsed": 17,
     "status": "ok",
     "timestamp": 1681768915563,
     "user": {
      "displayName": "Matheus Makoto Ogura",
      "userId": "14922850654307271537"
     },
     "user_tz": 180
    },
    "id": "AfNvInBTykrZ",
    "tags": []
   },
   "outputs": [
    {
     "ename": "NameError",
     "evalue": "name 'pd' is not defined",
     "output_type": "error",
     "traceback": [
      "\u001b[0;31m---------------------------------------------------------------------------\u001b[0m",
      "\u001b[0;31mNameError\u001b[0m                                 Traceback (most recent call last)",
      "Cell \u001b[0;32mIn[1], line 1\u001b[0m\n\u001b[0;32m----> 1\u001b[0m \u001b[43mpd\u001b[49m\u001b[38;5;241m.\u001b[39mset_option(\u001b[38;5;124m'\u001b[39m\u001b[38;5;124mdisplay.max_columns\u001b[39m\u001b[38;5;124m'\u001b[39m, \u001b[38;5;28;01mNone\u001b[39;00m)\n",
      "\u001b[0;31mNameError\u001b[0m: name 'pd' is not defined"
     ]
    }
   ],
   "source": [
    "pd.set_option('display.max_columns', None)"
   ]
  },
  {
   "cell_type": "code",
   "execution_count": null,
   "metadata": {},
   "outputs": [],
   "source": []
  },
  {
   "cell_type": "code",
   "execution_count": 11,
   "metadata": {
    "executionInfo": {
     "elapsed": 11,
     "status": "ok",
     "timestamp": 1681768915563,
     "user": {
      "displayName": "Matheus Makoto Ogura",
      "userId": "14922850654307271537"
     },
     "user_tz": 180
    },
    "id": "C8JqLj8aL_Fd",
    "tags": []
   },
   "outputs": [],
   "source": [
    "mount_path = \"/workspaces/prediction_house_price_from_airbnb/Data\""
   ]
  },
  {
   "cell_type": "code",
   "execution_count": 27,
   "metadata": {
    "application/vnd.databricks.v1+cell": {
     "inputWidgets": {},
     "nuid": "2a0d656e-bdcd-4107-9cc5-c6068256fa2c",
     "showTitle": false,
     "title": ""
    },
    "executionInfo": {
     "elapsed": 6950,
     "status": "ok",
     "timestamp": 1681768922503,
     "user": {
      "displayName": "Matheus Makoto Ogura",
      "userId": "14922850654307271537"
     },
     "user_tz": 180
    },
    "id": "vK1Uj6fqL2N0",
    "tags": []
   },
   "outputs": [],
   "source": [
    "# read the Parquet file into a pyarrow Table\n",
    "\n",
    "listings = pd.read_parquet(mount_path + \"/bronze/listings.parquet\")\n",
    "neighbourhoods = pd.read_parquet(mount_path + \"/bronze/neighbourhoods.parquet\")\n",
    "reviews = pd.read_parquet(mount_path + \"/bronze/reviews.parquet\")\n",
    "calendar = pd.read_parquet(mount_path + \"/bronze/calendar.parquet\")\n",
    "\n"
   ]
  },
  {
   "cell_type": "code",
   "execution_count": 25,
   "metadata": {
    "tags": []
   },
   "outputs": [],
   "source": [
    "def clean_price_column(df):\n",
    "    \"\"\"\n",
    "    Limpa a coluna 'price' do DataFrame 'df', removendo o símbolo de dólar ($) e a vírgula (,)\n",
    "    e convertendo o resultado em um valor float. A nova coluna 'price' é adicionada ao DataFrame 'listings'.\n",
    "\n",
    "    Args:\n",
    "        df (pandas.DataFrame): O DataFrame a ser limpo.\n",
    "\n",
    "    Returns:\n",
    "        pandas.DataFrame: Uma cópia do DataFrame original com a nova coluna 'price' adicionada,\n",
    "        contendo os valores de preço limpos e convertidos em float.\n",
    "    \"\"\"\n",
    "    listings = df.copy() # cria uma cópia do DataFrame original\n",
    "    listings['price'] = listings['price'].str.replace('[$,]', '', regex=True).astype(float) # substitui o símbolo de dólar e vírgula e converte para float\n",
    "    return listings\n",
    "\n",
    "def extract_bathrooms(df):\n",
    "    \"\"\"\n",
    "    Extrai o número de banheiros da coluna 'bathrooms_text' do DataFrame 'df' e o converte para float,\n",
    "    salvando o resultado na nova coluna 'bathrooms'.\n",
    "\n",
    "    Args:\n",
    "        df (pandas.DataFrame): O DataFrame a ser processado.\n",
    "\n",
    "    Returns:\n",
    "        pandas.DataFrame: Uma cópia do DataFrame original com a nova coluna 'bathrooms' adicionada,\n",
    "        contendo os valores de banheiros extraídos e convertidos em float.\n",
    "    \"\"\"\n",
    "    listings = df.copy() # cria uma cópia do DataFrame original\n",
    "    listings['bathrooms'] = listings['bathrooms_text'].str.extract(r'(\\d+(?:\\.\\d+)?)?').astype(float) # extrai o número de banheiros e converte para float\n",
    "    return listings\n",
    "\n",
    "\n",
    "\n",
    "\n",
    "def calc_distance(row):\n",
    "    \"\"\"\n",
    "    Calcula a distância entre as coordenadas geográficas do imóvel representado pela linha 'row' e as coordenadas do centro do Rio de Janeiro.\n",
    "    Retorna o valor da distância em quilômetros.\n",
    "\n",
    "    Args:\n",
    "        row (pandas.Series): Uma linha do DataFrame 'listings' contendo informações sobre um imóvel.\n",
    "\n",
    "    Returns:\n",
    "        float: A distância em quilômetros entre o imóvel e o centro do Rio de Janeiro.\n",
    "    \"\"\"\n",
    "    # Coordenadas geográficas do centro do Rio de Janeiro\n",
    "    center_lat = -22.908333\n",
    "    center_lon = -43.196388\n",
    "\n",
    "    # Coordenadas geográficas do imóvel\n",
    "    lat = row['latitude']\n",
    "    lon = row['longitude']\n",
    "\n",
    "    # Conversão de graus para radianos\n",
    "    lat_rad = math.radians(lat)\n",
    "    lon_rad = math.radians(lon)\n",
    "    center_lat_rad = math.radians(center_lat)\n",
    "    center_lon_rad = math.radians(center_lon)\n",
    "\n",
    "    # Cálculo da distância entre as coordenadas geográficas\n",
    "    delta_lat = center_lat_rad - lat_rad\n",
    "    delta_lon = center_lon_rad - lon_rad\n",
    "    a = math.sin(delta_lat/2)**2 + math.cos(lat_rad) * math.cos(center_lat_rad) * math.sin(delta_lon/2)**2\n",
    "    c = 2 * math.atan2(math.sqrt(a), math.sqrt(1-a))\n",
    "    distance = 6371 * c # raio médio da Terra em quilômetros\n",
    "\n",
    "    return distance\n",
    "\n"
   ]
  },
  {
   "cell_type": "code",
   "execution_count": 28,
   "metadata": {
    "executionInfo": {
     "elapsed": 9,
     "status": "ok",
     "timestamp": 1681768924160,
     "user": {
      "displayName": "Matheus Makoto Ogura",
      "userId": "14922850654307271537"
     },
     "user_tz": 180
    },
    "id": "VPsPhY_puOwp",
    "tags": []
   },
   "outputs": [],
   "source": [
    "listings=clean_price_column(listings)\n",
    "listings=extract_bathrooms(listings)\n",
    "listings['distance'] = listings.apply(calc_distance, axis=1)"
   ]
  },
  {
   "cell_type": "code",
   "execution_count": null,
   "metadata": {},
   "outputs": [],
   "source": [
    "listing.to_parquet('/workspaces/prediction_house_price_from_airbnb/Data/silver/listings_v01.parquet')"
   ]
  }
 ],
 "metadata": {
  "application/vnd.databricks.v1+notebook": {
   "dashboards": [],
   "language": "python",
   "notebookMetadata": {
    "pythonIndentUnit": 2
   },
   "notebookName": "1.0 Criando Base de Modelagem",
   "notebookOrigID": 4267021508302579,
   "widgets": {}
  },
  "colab": {
   "provenance": [
    {
     "file_id": "14rqDB5Vy1rZfHll4yPtMtFaqH3garE56",
     "timestamp": 1681070322897
    }
   ]
  },
  "kernelspec": {
   "display_name": "Python 3 (ipykernel)",
   "language": "python",
   "name": "python3"
  },
  "language_info": {
   "codemirror_mode": {
    "name": "ipython",
    "version": 3
   },
   "file_extension": ".py",
   "mimetype": "text/x-python",
   "name": "python",
   "nbconvert_exporter": "python",
   "pygments_lexer": "ipython3",
   "version": "3.10.4"
  }
 },
 "nbformat": 4,
 "nbformat_minor": 4
}
